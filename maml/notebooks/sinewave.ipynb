{
 "cells": [
  {
   "cell_type": "markdown",
   "metadata": {},
   "source": [
    "In this notebook, like all other MAML notebooks, code for MAML and datasets largely relies on https://github.com/mari-linhares/tensorflow-maml"
   ]
  },
  {
   "cell_type": "code",
   "execution_count": 10,
   "metadata": {},
   "outputs": [],
   "source": [
    "import numpy as np\n",
    "import pickle\n",
    "import matplotlib.pyplot as plt\n",
    "import tensorflow as tf\n",
    "import tensorflow.keras as keras\n",
    "import tensorflow.keras.backend as keras_backend\n",
    "import random\n",
    "import time"
   ]
  },
  {
   "cell_type": "code",
   "execution_count": 11,
   "metadata": {},
   "outputs": [],
   "source": [
    "import os\n",
    "import sys\n",
    "sys.path.append(\"../codes\")"
   ]
  },
  {
   "cell_type": "code",
   "execution_count": 12,
   "metadata": {},
   "outputs": [],
   "source": [
    "from maml_utils import loss_function, np_to_tensor, compute_loss, compute_gradients, apply_gradients, train_batch, copy_model, eval_sine_test"
   ]
  },
  {
   "cell_type": "code",
   "execution_count": 13,
   "metadata": {},
   "outputs": [],
   "source": [
    "from dataset import Generator, Dataset\n",
    "\n",
    "class SinusoidGenerator(Generator):\n",
    "\n",
    "    def _sample_parameters(self):\n",
    "        parameters = {}\n",
    "        parameters['amplitude'] = np.random.uniform(0., 1.0)\n",
    "        parameters['phase'] = np.random.uniform(0, np.pi)\n",
    "        return parameters\n",
    "\n",
    "    def _sample_x(self):\n",
    "        return np.random.uniform(-5, 5, self.K)\n",
    "\n",
    "    def equally_spaced_samples(self, K=None):\n",
    "        '''Returns `K` equally spaced samples.'''\n",
    "        if K is None:\n",
    "            K = self.K\n",
    "        return self.batch(x=np.linspace(-5, 5, K))\n",
    "\n",
    "    def f(self, x):\n",
    "        '''Sinewave function.'''\n",
    "        return self.parameters['amplitude'] * np.sin(x - self.parameters['phase'])\n",
    "\n",
    "class SinusoidDataset(Dataset):\n",
    "    def __init__(self, **kwargs):\n",
    "        assert 'generator' not in kwargs\n",
    "        generator_class = SinusoidGenerator\n",
    "        super().__init__(generator_class=generator_class, **kwargs)"
   ]
  },
  {
   "cell_type": "markdown",
   "metadata": {},
   "source": [
    "General Trainer class"
   ]
  },
  {
   "cell_type": "code",
   "execution_count": 14,
   "metadata": {},
   "outputs": [],
   "source": [
    "class Trainer():\n",
    "    \n",
    "    def __init__(self, model):\n",
    "        self.model = model\n",
    "        \n",
    "    def train(dataset_train):\n",
    "        raise NotImplementedError\n",
    "        \n",
    "    def evaluate(dataset_test):\n",
    "        raise NotImplementedError\n",
    "        \n",
    "    def save(path):\n",
    "        raise NotImplementedError"
   ]
  },
  {
   "cell_type": "markdown",
   "metadata": {},
   "source": [
    "Model"
   ]
  },
  {
   "cell_type": "code",
   "execution_count": 15,
   "metadata": {},
   "outputs": [],
   "source": [
    "class Model(keras.Model):\n",
    "    def __init__(self):\n",
    "        super(Model, self).__init__()\n",
    "        self.hidden1 = keras.layers.Dense(40, input_shape=(1,))\n",
    "        self.hidden2 = keras.layers.Dense(40, input_shape=(40,))\n",
    "        self.out = keras.layers.Dense(1, input_shape=(40,))\n",
    "        \n",
    "    def forward(self, x):\n",
    "        x = keras.activations.relu(self.hidden1(x))\n",
    "        x = keras.activations.relu(self.hidden2(x))\n",
    "        x = self.out(x)\n",
    "        return x\n",
    "    \n",
    "    def call(self, x):\n",
    "        return self.forward(x)"
   ]
  },
  {
   "cell_type": "markdown",
   "metadata": {},
   "source": [
    "Trainer"
   ]
  },
  {
   "cell_type": "code",
   "execution_count": 16,
   "metadata": {},
   "outputs": [],
   "source": [
    "def split_context_target(xs, ys, n_context):\n",
    "    \"\"\"Randomly split a set of x,y samples into context and target sets\"\"\"\n",
    "    context_mask = np.zeros(xs.shape[0], dtype=bool)\n",
    "    context_mask[[i for i in random.sample(range(xs.shape[0]), n_context)]] = True\n",
    "\n",
    "    context_xs = xs[context_mask]\n",
    "    context_ys = ys[context_mask]\n",
    "\n",
    "    target_xs = xs[~context_mask]\n",
    "    target_ys = ys[~context_mask]\n",
    "\n",
    "    return context_xs, context_ys, target_xs, target_ys"
   ]
  },
  {
   "cell_type": "code",
   "execution_count": 49,
   "metadata": {},
   "outputs": [],
   "source": [
    "class MAMLTrainer(Trainer):\n",
    "\n",
    "    def __init__(self, model, model_class=Model):\n",
    "        self.model_class = model_class\n",
    "        self.model = model\n",
    "        x, _ = np_to_tensor([np.ones((10,1)), np.ones((10,1))])\n",
    "        self.model.forward(x)\n",
    "        \n",
    "    def train(self, dataset_train, n_epochs=1, n_iter=100, min_context=1, max_context=10, lr_inner=0.01, batch_size=1, log_steps=1000):\n",
    "        optimizer = keras.optimizers.Adam()\n",
    "    \n",
    "        # Step 2: instead of checking for convergence, we train for a number\n",
    "        # of epochs\n",
    "        losses = []\n",
    "        test_losses_all = []\n",
    "        test_losses_epoch = []\n",
    "        for e in range(n_epochs):\n",
    "            total_loss = 0\n",
    "            start = time.time()\n",
    "            # Step 3 and 4\n",
    "            for i, t in enumerate(dataset_train(size=n_iter)):\n",
    "                x, y = np_to_tensor(t.batch())\n",
    "                n_context = random.choice(range(min_context, max_context+1))\n",
    "                context_x, context_y, target_x, target_y = split_context_target(x, y, n_context)\n",
    "                \n",
    "                with tf.GradientTape() as test_tape:\n",
    "                    # test_tape.watch(model.trainable_variables)\n",
    "                    # Step 5\n",
    "                    with tf.GradientTape() as train_tape:\n",
    "                        train_loss, _ = compute_loss(self.model, context_x, context_y)\n",
    "                    # Step 6\n",
    "                    gradients = train_tape.gradient(train_loss, self.model.trainable_variables)\n",
    "                    k = 0\n",
    "                    model_copy = copy_model(self.model, context_x, model_class=self.model_class)\n",
    "                    for j in range(len(model_copy.layers)):\n",
    "                        model_copy.layers[j].kernel = tf.subtract(self.model.layers[j].kernel,\n",
    "                                    tf.multiply(lr_inner, gradients[k]))\n",
    "                        model_copy.layers[j].bias = tf.subtract(self.model.layers[j].bias,\n",
    "                                    tf.multiply(lr_inner, gradients[k+1]))\n",
    "                        k += 2\n",
    "                    # Step 8\n",
    "                    test_loss, logits = compute_loss(model_copy, target_x, target_y)\n",
    "                    test_losses_all.append(test_loss.numpy())\n",
    "                # Step 8\n",
    "                gradients = test_tape.gradient(test_loss, self.model.trainable_variables)\n",
    "                optimizer.apply_gradients(zip(gradients, self.model.trainable_variables))\n",
    "\n",
    "                # Logs\n",
    "                total_loss += test_loss\n",
    "            test_losses_epoch.append(test_loss.numpy())\n",
    "            loss = total_loss / n_iter\n",
    "            losses.append(loss.numpy())\n",
    "\n",
    "            print('Epoch {}: mean loss = {}, Time to run {} steps = {}'.format(e, loss, n_iter, time.time() - start))\n",
    "            start = time.time()\n",
    "            print(losses)\n",
    "        plt.plot(losses)\n",
    "        plt.show()\n",
    "        \n",
    "        plt.plot(test_losses_all)\n",
    "        plt.show()\n",
    "        \n",
    "        plt.plot(test_losses_epoch)\n",
    "        plt.show()\n",
    "            \n",
    "    def save(self, path):\n",
    "        self.model.save_weights(path)\n",
    "        \n",
    "    def load(self, path):\n",
    "        self.model.built = True\n",
    "        self.model.load_weights(path)\n",
    "            \n",
    "    def evaluate(self, generator_test, **kwargs):\n",
    "        \n",
    "        assert generator_test.K == generator_test.x.size\n",
    "        \n",
    "        \n",
    "        # generate equally spaced samples for ploting\n",
    "        x_test, y_test = generator_test.equally_spaced_samples(200)\n",
    "\n",
    "        # batch used for training\n",
    "        x, y = generator_test.batch()\n",
    "        \n",
    "        fit_res_all = []\n",
    "        \n",
    "        print('Parameters : {}'.format(generator_test.parameters))\n",
    "        for index in range(1, generator_test.K+1):\n",
    "            print('Number of context points {}'.format(index))\n",
    "            fit_res = self.eval_sinewave_for_test(x[:index], y[:index], x_test, y_test, **kwargs)\n",
    "            print('Loss :', fit_res[-1][-1])\n",
    "            fit_res_all.append(fit_res)\n",
    "            \n",
    "        return fit_res_all\n",
    "        \n",
    "        \n",
    "        \n",
    "        \n",
    "    def eval_sinewave_for_test(self, x, y, x_test, y_test, num_steps=(10,), lr=0.01, plot=True):\n",
    "        '''Evaluates how the sinewave addapts at dataset.\n",
    "\n",
    "        The idea is to use the pretrained model as a weight initializer and\n",
    "        try to fit the model on this new dataset.\n",
    "\n",
    "        Args:\n",
    "            model: Already trained model.\n",
    "            sinusoid_generator: A sinusoidGenerator instance.\n",
    "            num_steps: Number of training steps to be logged.\n",
    "            lr: Learning rate used for training on the test data.\n",
    "            plot: If plot is True than it plots how the curves are fitted along\n",
    "                `num_steps`.\n",
    "\n",
    "        Returns:\n",
    "            The fit results. A list containing the loss, logits and step. For\n",
    "            every step at `num_steps`.\n",
    "        '''\n",
    "\n",
    "        # copy model so we can use the same model multiple times\n",
    "        copied_model = copy_model(self.model, x, model_class=self.model_class)\n",
    "\n",
    "        # use SGD for this part of training as described in the paper\n",
    "        optimizer = keras.optimizers.SGD(learning_rate=lr)\n",
    "\n",
    "        # run training and log fit results\n",
    "        fit_res = eval_sine_test(copied_model, optimizer, x, y, x_test, y_test, num_steps)\n",
    "\n",
    "        # plot\n",
    "        train, = plt.plot(x, y, '^')\n",
    "        ground_truth, = plt.plot(x_test, y_test)\n",
    "        plots = [train, ground_truth]\n",
    "        legend = ['Training Points', 'True Function']\n",
    "        for n, res, loss in fit_res:\n",
    "            cur, = plt.plot(x_test, res[:, 0], '--')\n",
    "            plots.append(cur)\n",
    "            legend.append(f'After {n} Steps')\n",
    "        plt.legend(plots, legend)\n",
    "        plt.ylim(-1.5, 1.5)\n",
    "        plt.xlim(-6, 6)\n",
    "        if plot:\n",
    "            plt.show()\n",
    "\n",
    "        return fit_res\n",
    "        \n",
    "        \n",
    "    \n",
    "    "
   ]
  },
  {
   "cell_type": "code",
   "execution_count": 50,
   "metadata": {
    "scrolled": true
   },
   "outputs": [
    {
     "name": "stdout",
     "output_type": "stream",
     "text": [
      "WARNING:tensorflow:Layer dense_60 is casting an input tensor from dtype float64 to the layer's dtype of float32, which is new behavior in TensorFlow 2.  The layer has dtype float32 because its dtype defaults to floatx.\n",
      "\n",
      "If you intended to run this layer in float32, you can safely ignore this warning. If in doubt, this warning is likely only an issue if you are porting a TensorFlow 1.X model to TensorFlow 2.\n",
      "\n",
      "To change all layers to have dtype float64 by default, call `tf.keras.backend.set_floatx('float64')`. To change just this layer, pass dtype='float64' to the layer constructor. If you are the author of this layer, you can disable autocasting by passing autocast=False to the base Layer constructor.\n",
      "\n"
     ]
    }
   ],
   "source": [
    "model = Model()\n",
    "trainer = MAMLTrainer(model)"
   ]
  },
  {
   "cell_type": "code",
   "execution_count": 51,
   "metadata": {},
   "outputs": [
    {
     "data": {
      "text/plain": [
       "__main__.Model"
      ]
     },
     "execution_count": 51,
     "metadata": {},
     "output_type": "execute_result"
    }
   ],
   "source": [
    "type(trainer.model)"
   ]
  },
  {
   "cell_type": "code",
   "execution_count": null,
   "metadata": {},
   "outputs": [],
   "source": [
    "trainer.train(SinusoidDataset, n_epochs=200)"
   ]
  },
  {
   "cell_type": "code",
   "execution_count": 12,
   "metadata": {},
   "outputs": [],
   "source": [
    "trainer.save('../outputs/sinewave.tf')"
   ]
  },
  {
   "cell_type": "code",
   "execution_count": 52,
   "metadata": {
    "scrolled": true
   },
   "outputs": [],
   "source": [
    "trainer.load('../outputs/sinewave.tf')"
   ]
  },
  {
   "cell_type": "code",
   "execution_count": 53,
   "metadata": {},
   "outputs": [],
   "source": [
    "generator_test = SinusoidGenerator(\n",
    "    K = 5,\n",
    "    x = np.array([0, 2, -2, 4, -4]),\n",
    "    parameters = {\n",
    "        'amplitude': 0.5,\n",
    "        'phase': 1.5\n",
    "    }\n",
    ")"
   ]
  },
  {
   "cell_type": "code",
   "execution_count": 54,
   "metadata": {},
   "outputs": [
    {
     "name": "stdout",
     "output_type": "stream",
     "text": [
      "Parameters : {'amplitude': 0.5, 'phase': 1.5}\n",
      "Number of context points 1\n",
      "WARNING:tensorflow:Layer dense_63 is casting an input tensor from dtype float64 to the layer's dtype of float32, which is new behavior in TensorFlow 2.  The layer has dtype float32 because its dtype defaults to floatx.\n",
      "\n",
      "If you intended to run this layer in float32, you can safely ignore this warning. If in doubt, this warning is likely only an issue if you are porting a TensorFlow 1.X model to TensorFlow 2.\n",
      "\n",
      "To change all layers to have dtype float64 by default, call `tf.keras.backend.set_floatx('float64')`. To change just this layer, pass dtype='float64' to the layer constructor. If you are the author of this layer, you can disable autocasting by passing autocast=False to the base Layer constructor.\n",
      "\n"
     ]
    },
    {
     "data": {
      "image/png": "[encoded data removed]",
      "text/plain": [
       "<Figure size 432x288 with 1 Axes>"
      ]
     },
     "metadata": {
      "needs_background": "light"
     },
     "output_type": "display_data"
    },
    {
     "name": "stdout",
     "output_type": "stream",
     "text": [
      "Loss : tf.Tensor(0.026461516092383012, shape=(), dtype=float64)\n",
      "Number of context points 2\n",
      "WARNING:tensorflow:Layer dense_66 is casting an input tensor from dtype float64 to the layer's dtype of float32, which is new behavior in TensorFlow 2.  The layer has dtype float32 because its dtype defaults to floatx.\n",
      "\n",
      "If you intended to run this layer in float32, you can safely ignore this warning. If in doubt, this warning is likely only an issue if you are porting a TensorFlow 1.X model to TensorFlow 2.\n",
      "\n",
      "To change all layers to have dtype float64 by default, call `tf.keras.backend.set_floatx('float64')`. To change just this layer, pass dtype='float64' to the layer constructor. If you are the author of this layer, you can disable autocasting by passing autocast=False to the base Layer constructor.\n",
      "\n"
     ]
    },
    {
     "data": {
      "image/png": "[encoded data removed]",
      "text/plain": [
       "<Figure size 432x288 with 1 Axes>"
      ]
     },
     "metadata": {
      "needs_background": "light"
     },
     "output_type": "display_data"
    },
    {
     "name": "stdout",
     "output_type": "stream",
     "text": [
      "Loss : tf.Tensor(0.02395666292326892, shape=(), dtype=float64)\n",
      "Number of context points 3\n",
      "WARNING:tensorflow:Layer dense_69 is casting an input tensor from dtype float64 to the layer's dtype of float32, which is new behavior in TensorFlow 2.  The layer has dtype float32 because its dtype defaults to floatx.\n",
      "\n",
      "If you intended to run this layer in float32, you can safely ignore this warning. If in doubt, this warning is likely only an issue if you are porting a TensorFlow 1.X model to TensorFlow 2.\n",
      "\n",
      "To change all layers to have dtype float64 by default, call `tf.keras.backend.set_floatx('float64')`. To change just this layer, pass dtype='float64' to the layer constructor. If you are the author of this layer, you can disable autocasting by passing autocast=False to the base Layer constructor.\n",
      "\n"
     ]
    },
    {
     "data": {
      "image/png": "[encoded data removed]",
      "text/plain": [
       "<Figure size 432x288 with 1 Axes>"
      ]
     },
     "metadata": {
      "needs_background": "light"
     },
     "output_type": "display_data"
    },
    {
     "name": "stdout",
     "output_type": "stream",
     "text": [
      "Loss : tf.Tensor(0.01130910343060109, shape=(), dtype=float64)\n",
      "Number of context points 4\n",
      "WARNING:tensorflow:Layer dense_72 is casting an input tensor from dtype float64 to the layer's dtype of float32, which is new behavior in TensorFlow 2.  The layer has dtype float32 because its dtype defaults to floatx.\n",
      "\n",
      "If you intended to run this layer in float32, you can safely ignore this warning. If in doubt, this warning is likely only an issue if you are porting a TensorFlow 1.X model to TensorFlow 2.\n",
      "\n",
      "To change all layers to have dtype float64 by default, call `tf.keras.backend.set_floatx('float64')`. To change just this layer, pass dtype='float64' to the layer constructor. If you are the author of this layer, you can disable autocasting by passing autocast=False to the base Layer constructor.\n",
      "\n"
     ]
    },
    {
     "data": {
      "image/png": "[encoded data removed]",
      "text/plain": [
       "<Figure size 432x288 with 1 Axes>"
      ]
     },
     "metadata": {
      "needs_background": "light"
     },
     "output_type": "display_data"
    },
    {
     "name": "stdout",
     "output_type": "stream",
     "text": [
      "Loss : tf.Tensor(0.008989519070289506, shape=(), dtype=float64)\n",
      "Number of context points 5\n",
      "WARNING:tensorflow:Layer dense_75 is casting an input tensor from dtype float64 to the layer's dtype of float32, which is new behavior in TensorFlow 2.  The layer has dtype float32 because its dtype defaults to floatx.\n",
      "\n",
      "If you intended to run this layer in float32, you can safely ignore this warning. If in doubt, this warning is likely only an issue if you are porting a TensorFlow 1.X model to TensorFlow 2.\n",
      "\n",
      "To change all layers to have dtype float64 by default, call `tf.keras.backend.set_floatx('float64')`. To change just this layer, pass dtype='float64' to the layer constructor. If you are the author of this layer, you can disable autocasting by passing autocast=False to the base Layer constructor.\n",
      "\n"
     ]
    },
    {
     "data": {
      "image/png": "[encoded data removed]",
      "text/plain": [
       "<Figure size 432x288 with 1 Axes>"
      ]
     },
     "metadata": {
      "needs_background": "light"
     },
     "output_type": "display_data"
    },
    {
     "name": "stdout",
     "output_type": "stream",
     "text": [
      "Loss : tf.Tensor(0.006503750923935917, shape=(), dtype=float64)\n"
     ]
    }
   ],
   "source": [
    "fit_res_all = trainer.evaluate(generator_test)"
   ]
  },
  {
   "cell_type": "code",
   "execution_count": 55,
   "metadata": {},
   "outputs": [],
   "source": [
    "ys = fit_res_all[1][0][1].numpy()"
   ]
  },
  {
   "cell_type": "code",
   "execution_count": 56,
   "metadata": {},
   "outputs": [
    {
     "data": {
      "text/plain": [
       "(200, 1)"
      ]
     },
     "execution_count": 56,
     "metadata": {},
     "output_type": "execute_result"
    }
   ],
   "source": [
    "ys.shape"
   ]
  },
  {
   "cell_type": "code",
   "execution_count": 58,
   "metadata": {},
   "outputs": [],
   "source": [
    "np.save('sinewave_maml', ys)"
   ]
  },
  {
   "cell_type": "code",
   "execution_count": null,
   "metadata": {},
   "outputs": [],
   "source": []
  }
 ],
 "metadata": {
  "kernelspec": {
   "display_name": "Python 3",
   "language": "python",
   "name": "python3"
  },
  "language_info": {
   "codemirror_mode": {
    "name": "ipython",
    "version": 3
   },
   "file_extension": ".py",
   "mimetype": "text/x-python",
   "name": "python",
   "nbconvert_exporter": "python",
   "pygments_lexer": "ipython3",
   "version": "3.7.0"
  }
 },
 "nbformat": 4,
 "nbformat_minor": 4
}
