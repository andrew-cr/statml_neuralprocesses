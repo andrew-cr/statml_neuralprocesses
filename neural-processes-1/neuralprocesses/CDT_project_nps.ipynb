{
 "metadata": {
  "language_info": {
   "codemirror_mode": {
    "name": "ipython",
    "version": 3
   },
   "file_extension": ".py",
   "mimetype": "text/x-python",
   "name": "python",
   "nbconvert_exporter": "python",
   "pygments_lexer": "ipython3",
   "version": "3.8.3-final"
  },
  "orig_nbformat": 2,
  "kernelspec": {
   "name": "python3",
   "display_name": "Python 3"
  }
 },
 "nbformat": 4,
 "nbformat_minor": 2,
 "cells": [
  {
   "cell_type": "code",
   "execution_count": 1,
   "metadata": {},
   "outputs": [
    {
     "output_type": "error",
     "ename": "ModuleNotFoundError",
     "evalue": "No module named 'neuralprocesses'",
     "traceback": [
      "\u001b[0;31m---------------------------------------------------------------------------\u001b[0m",
      "\u001b[0;31mModuleNotFoundError\u001b[0m                       Traceback (most recent call last)",
      "\u001b[0;32m<ipython-input-1-f3a419c2bf85>\u001b[0m in \u001b[0;36m<module>\u001b[0;34m\u001b[0m\n\u001b[1;32m     14\u001b[0m \u001b[0;32mfrom\u001b[0m \u001b[0mtqdm\u001b[0m\u001b[0;34m.\u001b[0m\u001b[0mnotebook\u001b[0m \u001b[0;32mimport\u001b[0m \u001b[0mtqdm\u001b[0m\u001b[0;34m\u001b[0m\u001b[0;34m\u001b[0m\u001b[0m\n\u001b[1;32m     15\u001b[0m \u001b[0;34m\u001b[0m\u001b[0m\n\u001b[0;32m---> 16\u001b[0;31m \u001b[0;32mfrom\u001b[0m \u001b[0mneuralprocesses\u001b[0m \u001b[0;32mimport\u001b[0m \u001b[0msplit_context_target\u001b[0m\u001b[0;34m,\u001b[0m \u001b[0mNeuralProcessParams\u001b[0m\u001b[0;34m\u001b[0m\u001b[0;34m\u001b[0m\u001b[0m\n\u001b[0m\u001b[1;32m     17\u001b[0m \u001b[0;32mfrom\u001b[0m \u001b[0mneuralprocesses\u001b[0m \u001b[0;32mimport\u001b[0m \u001b[0mnetwork\u001b[0m\u001b[0;34m\u001b[0m\u001b[0;34m\u001b[0m\u001b[0m\n\u001b[1;32m     18\u001b[0m \u001b[0;32mfrom\u001b[0m \u001b[0mneuralprocesses\u001b[0m \u001b[0;32mimport\u001b[0m \u001b[0mloss\u001b[0m\u001b[0;34m\u001b[0m\u001b[0;34m\u001b[0m\u001b[0m\n",
      "\u001b[0;31mModuleNotFoundError\u001b[0m: No module named 'neuralprocesses'"
     ]
    }
   ],
   "source": [
    "from collections import namedtuple\n",
    "import os\n",
    "import random\n",
    "import time\n",
    "\n",
    "from IPython.display import HTML\n",
    "import matplotlib.pyplot as plt\n",
    "from matplotlib import animation\n",
    "import numpy as np\n",
    "from sklearn.gaussian_process import GaussianProcessRegressor\n",
    "from sklearn.gaussian_process.kernels import RBF, ExpSineSquared\n",
    "import tensorflow as tf\n",
    "import tensorflow_probability as tfp\n",
    "from tqdm.notebook import tqdm\n",
    "\n",
    "from neuralprocesses import split_context_target, NeuralProcessParams\n",
    "from neuralprocesses import network\n",
    "from neuralprocesses import loss\n",
    "from neuralprocesses import predict\n",
    "from neuralprocesses import process\n",
    "\n",
    "tf.get_logger().setLevel('ERROR')\n",
    "\n",
    "ccycle = plt.rcParams['axes.prop_cycle'].by_key()['color']\n",
    "def plot_samples(xs, sample_ys, xlim=(-1.0, 1.0), ax=None, c=None):\n",
    "    if ax is None:\n",
    "        _, ax = plt.subplots(figsize=(12, 6))\n",
    "    if c is None:\n",
    "        c = ccycle[0]\n",
    "    n_samples = sample_ys.shape[1]\n",
    "    for i in range(n_samples):\n",
    "        ax.plot(xs, sample_ys[:,i], c=c, alpha=15.0 / n_samples)\n",
    "    return ax\n",
    "\n",
    "%matplotlib inline\n",
    "%load_ext autoreload\n",
    "%autoreload 2"
   ]
  },
  {
   "cell_type": "code",
   "execution_count": null,
   "metadata": {},
   "outputs": [],
   "source": []
  }
 ]
}